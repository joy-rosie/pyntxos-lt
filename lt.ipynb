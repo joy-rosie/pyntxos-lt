{
 "cells": [
  {
   "cell_type": "markdown",
   "metadata": {
    "slideshow": {
     "slide_type": "slide"
    }
   },
   "source": [
    "# Pyntxos\n",
    "\n",
    "<a href=\"http://www.bit.ly/pyntxos2019\" target=\"_blank\">bit.ly/pyntxos2019/</a> \n",
    "\n",
    "\n",
    "Github: <a href=\"https://github.com/python-sprints/pyntxos\" target=\"_blank\">https://github.com/python-sprints/pyntxos</a>\n",
    "\n",
    "\n",
    "Credit to <a href=\"https://github.com/python-sprints\" target=\"_blank\">Python Sprints</a> \n",
    "\n",
    "<img src=\"images/contributors.png\">"
   ]
  },
  {
   "cell_type": "markdown",
   "metadata": {
    "slideshow": {
     "slide_type": "slide"
    }
   },
   "source": [
    "# Setup\n",
    "- Scraping Data\n",
    "- Optimisation\n",
    "- Dashboard\n",
    "- Continuous Integration\n",
    "\n",
    "<img src=\"images/1.jpg\">"
   ]
  },
  {
   "cell_type": "markdown",
   "metadata": {
    "slideshow": {
     "slide_type": "subslide"
    }
   },
   "source": [
    "## Scraping Data\n",
    "\n",
    "<a href=\"http://www.bilbaoturismo.net/BilbaoTurismo/en/pintxo-finder_2\" target=\"_blank\">Bilbao Turismo</a> \n",
    "\n",
    "- [`requests`](https://2.python-requests.org/en/master/)\n",
    "- [`bs4`](https://www.crummy.com/software/BeautifulSoup/)\n",
    "- [`geopy`](https://geopy.readthedocs.io/en/stable/)\n",
    "\n",
    "<img src=\"images/2.jpg\">"
   ]
  },
  {
   "cell_type": "markdown",
   "metadata": {
    "slideshow": {
     "slide_type": "subslide"
    }
   },
   "source": [
    "## Optimisation\n",
    "\n",
    "What optimisation?\n",
    "\n",
    "<img src=\"images/3.jpg\">"
   ]
  },
  {
   "cell_type": "markdown",
   "metadata": {
    "slideshow": {
     "slide_type": "subslide"
    }
   },
   "source": [
    "## Dashboard\n",
    "\n",
    "- [`folium`](https://python-visualization.github.io/folium/)\n",
    "- [`jupyter`](https://jupyter.org/)\n",
    "- [`voila`](https://github.com/QuantStack/voila)\n",
    "- [Binder](https://mybinder.org/)\n",
    "\n",
    "<img src=\"images/10.jpg\">"
   ]
  },
  {
   "cell_type": "markdown",
   "metadata": {
    "slideshow": {
     "slide_type": "subslide"
    }
   },
   "source": [
    "## Continuous integration\n",
    "- <a href=\"https://travis-ci.org/python-sprints/pyntxos\" target=\"_blank\">Travis</a> \n",
    "\n",
    "<img src=\"images/9.jpg\">"
   ]
  },
  {
   "cell_type": "markdown",
   "metadata": {
    "slideshow": {
     "slide_type": "slide"
    }
   },
   "source": [
    "# Live Demo!\n",
    "\n",
    "<img src=\"images/8.jpg\">"
   ]
  }
 ],
 "metadata": {
  "celltoolbar": "Slideshow",
  "kernelspec": {
   "display_name": "Python 3",
   "language": "python",
   "name": "python3"
  },
  "language_info": {
   "codemirror_mode": {
    "name": "ipython",
    "version": 3
   },
   "file_extension": ".py",
   "mimetype": "text/x-python",
   "name": "python",
   "nbconvert_exporter": "python",
   "pygments_lexer": "ipython3",
   "version": "3.7.3"
  }
 },
 "nbformat": 4,
 "nbformat_minor": 2
}
