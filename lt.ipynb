{
 "cells": [
  {
   "cell_type": "markdown",
   "metadata": {
    "slideshow": {
     "slide_type": "slide"
    }
   },
   "source": [
    "# Pyntxos\n",
    "\n",
    "<a href=\"http://www.bit.ly/pyntxos2019\" target=\"_blank\">bit.ly/pyntxos2019/</a> \n",
    "\n",
    "Credit to [Python Sprints](https://github.com/python-sprints)"
   ]
  },
  {
   "cell_type": "markdown",
   "metadata": {
    "slideshow": {
     "slide_type": "slide"
    }
   },
   "source": [
    "## Setup\n",
    "- Scraping Data\n",
    "- Optimisation\n",
    "- Dashboard\n",
    "- Continuous Integration"
   ]
  },
  {
   "cell_type": "markdown",
   "metadata": {
    "slideshow": {
     "slide_type": "slide"
    }
   },
   "source": [
    "### Scraping Data\n",
    "\n",
    "<a href=\"http://www.bilbaoturismo.net/BilbaoTurismo/en/pintxo-finder_2\" target=\"_blank\">Bilbao Turismo</a> \n",
    "\n",
    "- [`requests`](https://2.python-requests.org/en/master/)\n",
    "- [`bs4`](https://www.crummy.com/software/BeautifulSoup/)\n",
    "- [`geopy`](https://geopy.readthedocs.io/en/stable/)"
   ]
  },
  {
   "cell_type": "markdown",
   "metadata": {
    "slideshow": {
     "slide_type": "slide"
    }
   },
   "source": [
    "### Optimisation\n",
    "\n",
    "What optimisation?"
   ]
  },
  {
   "cell_type": "markdown",
   "metadata": {
    "slideshow": {
     "slide_type": "slide"
    }
   },
   "source": [
    "### Dashboard\n",
    "\n",
    "- [`folium`](https://python-visualization.github.io/folium/)\n",
    "- [`jupyter`](https://jupyter.org/)\n",
    "- [`voila`](https://github.com/QuantStack/voila)\n",
    "- [Binder](https://mybinder.org/)"
   ]
  },
  {
   "cell_type": "markdown",
   "metadata": {
    "slideshow": {
     "slide_type": "slide"
    }
   },
   "source": [
    "### Continuous integration\n",
    "- <a href=\"https://travis-ci.org/python-sprints/pyntxos\" target=\"_blank\">Travis</a> \n"
   ]
  }
 ],
 "metadata": {
  "celltoolbar": "Slideshow",
  "kernelspec": {
   "display_name": "Python 3",
   "language": "python",
   "name": "python3"
  },
  "language_info": {
   "codemirror_mode": {
    "name": "ipython",
    "version": 3
   },
   "file_extension": ".py",
   "mimetype": "text/x-python",
   "name": "python",
   "nbconvert_exporter": "python",
   "pygments_lexer": "ipython3",
   "version": "3.7.3"
  }
 },
 "nbformat": 4,
 "nbformat_minor": 2
}
